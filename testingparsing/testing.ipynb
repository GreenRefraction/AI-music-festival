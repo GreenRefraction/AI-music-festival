{
 "cells": [
  {
   "cell_type": "code",
   "execution_count": 1,
   "metadata": {},
   "outputs": [],
   "source": [
    "# Geting Lakhm dataset and parsing to Torch format\n",
    "\n",
    "\n"
   ]
  },
  {
   "cell_type": "code",
   "execution_count": 2,
   "metadata": {},
   "outputs": [],
   "source": [
    "# imports\n",
    "import pretty_midi\n",
    "import numpy as np\n",
    "import joblib\n",
    "import glob\n",
    "\n",
    "import matplotlib.pyplot as plt\n",
    "%matplotlib inline\n",
    "import seaborn as sns\n",
    "sns.set_style('white')\n",
    "sns.set_context('notebook', font_scale=1.5)\n",
    "import matplotlib.gridspec\n",
    "import collections\n",
    "import os\n",
    "# plotting.py contains utility functions for making nice histogram plots\n",
    "import plotting\n"
   ]
  },
  {
   "cell_type": "markdown",
   "metadata": {},
   "source": [
    "# Reading a file and printic it's statistics: \n",
    "\n",
    "- https://nbviewer.org/github/craffel/midi-ground-truth/blob/master/Statistics.ipynb"
   ]
  },
  {
   "cell_type": "code",
   "execution_count": 3,
   "metadata": {},
   "outputs": [],
   "source": [
    "def compute_statistics(midi_file):\n",
    "    \"\"\"\n",
    "    Given a path to a MIDI file, compute a dictionary of statistics about it\n",
    "    \n",
    "    Parameters\n",
    "    ----------\n",
    "    midi_file : str\n",
    "        Path to a MIDI file.\n",
    "    \n",
    "    Returns\n",
    "    -------\n",
    "    statistics : dict\n",
    "        Dictionary reporting the values for different events in the file.\n",
    "    \"\"\"\n",
    "    # Some MIDI files will raise Exceptions on loading, if they are invalid.\n",
    "    # We just skip those.\n",
    "    try:\n",
    "        pm = pretty_midi.PrettyMIDI(midi_file)\n",
    "        # Extract informative events from the MIDI file\n",
    "        return {'n_instruments': len(pm.instruments),\n",
    "                'program_numbers': [i.program for i in pm.instruments if not i.is_drum],\n",
    "                'key_numbers': [k.key_number for k in pm.key_signature_changes],\n",
    "                'tempos': list(pm.get_tempo_changes()[1]),\n",
    "                'time_signature_changes': pm.time_signature_changes,\n",
    "                'end_time': pm.get_end_time(),\n",
    "                'lyrics': [l.text for l in pm.lyrics]}\n",
    "    # Silently ignore exceptions for a clean presentation (sorry Python!)\n",
    "    except Exception as e:\n",
    "        pass"
   ]
  },
  {
   "cell_type": "code",
   "execution_count": 4,
   "metadata": {},
   "outputs": [
    {
     "name": "stderr",
     "output_type": "stream",
     "text": [
      "C:\\Users\\axelg\\AppData\\Local\\Programs\\Python\\Python39\\lib\\site-packages\\pretty_midi\\pretty_midi.py:97: RuntimeWarning: Tempo, Key or Time signature change events found on non-zero tracks.  This is not a valid type 0 or type 1 MIDI file.  Tempo, Key or Time Signature may be wrong.\n",
      "  warnings.warn(\n"
     ]
    },
    {
     "data": {
      "text/plain": [
       "{'n_instruments': 2,\n",
       " 'program_numbers': [0, 0],\n",
       " 'key_numbers': [],\n",
       " 'tempos': [120.0],\n",
       " 'time_signature_changes': [TimeSignature(numerator=4, denominator=4, time=0.0)],\n",
       " 'end_time': 58.00520833333333,\n",
       " 'lyrics': []}"
      ]
     },
     "execution_count": 4,
     "metadata": {},
     "output_type": "execute_result"
    }
   ],
   "source": [
    "compute_statistics('faded.mid')"
   ]
  },
  {
   "cell_type": "markdown",
   "metadata": {},
   "source": [
    "# Parsing mid to CSV"
   ]
  },
  {
   "cell_type": "code",
   "execution_count": 6,
   "metadata": {},
   "outputs": [],
   "source": [
    "import py_midicsv as pm"
   ]
  },
  {
   "cell_type": "code",
   "execution_count": 7,
   "metadata": {},
   "outputs": [],
   "source": [
    "# Load the MIDI file and parse it into CSV format\n",
    "csv_string = pm.midi_to_csv(\"faded.mid\")\n",
    "\n",
    "with open(\"example_converted.csv\", \"w\") as f:\n",
    "    f.writelines(csv_string)\n",
    "\n",
    "# Parse the CSV output of the previous command back into a MIDI file\n",
    "midi_object = pm.csv_to_midi(csv_string)\n",
    "\n",
    "# Save the parsed MIDI file to disk\n",
    "with open(\"example_converted.mid\", \"wb\") as output_file:\n",
    "    midi_writer = pm.FileWriter(output_file)\n",
    "    midi_writer.write(midi_object)"
   ]
  },
  {
   "cell_type": "markdown",
   "metadata": {},
   "source": [
    "# Convert the csv to torch tensor"
   ]
  },
  {
   "cell_type": "code",
   "execution_count": 8,
   "metadata": {},
   "outputs": [],
   "source": [
    "import pandas as pd\n",
    "import torch"
   ]
  },
  {
   "cell_type": "code",
   "execution_count": 9,
   "metadata": {},
   "outputs": [
    {
     "name": "stderr",
     "output_type": "stream",
     "text": [
      "C:\\Users\\axelg\\AppData\\Local\\Programs\\Python\\Python39\\lib\\site-packages\\IPython\\core\\interactiveshell.py:3444: FutureWarning: The error_bad_lines argument has been deprecated and will be removed in a future version.\n",
      "\n",
      "\n",
      "  exec(code_obj, self.user_global_ns, self.user_ns)\n",
      "b'Skipping line 3: expected 6 fields, saw 7\\n'\n"
     ]
    },
    {
     "ename": "ValueError",
     "evalue": "could not determine the shape of object type 'DataFrame'",
     "output_type": "error",
     "traceback": [
      "\u001b[1;31m---------------------------------------------------------------------------\u001b[0m",
      "\u001b[1;31mValueError\u001b[0m                                Traceback (most recent call last)",
      "\u001b[1;32m~\\AppData\\Local\\Temp/ipykernel_7012/635226754.py\u001b[0m in \u001b[0;36m<module>\u001b[1;34m\u001b[0m\n\u001b[0;32m      6\u001b[0m \u001b[0mtest\u001b[0m \u001b[1;33m=\u001b[0m \u001b[0mpd\u001b[0m\u001b[1;33m.\u001b[0m\u001b[0mread_csv\u001b[0m\u001b[1;33m(\u001b[0m\u001b[1;34m'example_converted.csv'\u001b[0m\u001b[1;33m,\u001b[0m \u001b[0merror_bad_lines\u001b[0m\u001b[1;33m=\u001b[0m\u001b[1;32mFalse\u001b[0m\u001b[1;33m,\u001b[0m \u001b[0mencoding\u001b[0m \u001b[1;33m=\u001b[0m \u001b[1;34m\"UTF-8\"\u001b[0m\u001b[1;33m)\u001b[0m\u001b[1;33m\u001b[0m\u001b[1;33m\u001b[0m\u001b[0m\n\u001b[0;32m      7\u001b[0m \u001b[1;33m\u001b[0m\u001b[0m\n\u001b[1;32m----> 8\u001b[1;33m \u001b[0mtest_tensor\u001b[0m \u001b[1;33m=\u001b[0m \u001b[0mtorch\u001b[0m\u001b[1;33m.\u001b[0m\u001b[0mtensor\u001b[0m\u001b[1;33m(\u001b[0m\u001b[0mtest\u001b[0m\u001b[1;33m)\u001b[0m\u001b[1;33m\u001b[0m\u001b[1;33m\u001b[0m\u001b[0m\n\u001b[0m\u001b[0;32m      9\u001b[0m \u001b[1;33m\u001b[0m\u001b[0m\n\u001b[0;32m     10\u001b[0m \u001b[1;31m# print(a.dtype)\u001b[0m\u001b[1;33m\u001b[0m\u001b[1;33m\u001b[0m\u001b[1;33m\u001b[0m\u001b[0m\n",
      "\u001b[1;31mValueError\u001b[0m: could not determine the shape of object type 'DataFrame'"
     ]
    }
   ],
   "source": [
    "# data = pd.read_csv('example_converted.csv', error_bad_lines=False)\n",
    "\n",
    "# # a = data.to_numpy(dtype='float32')\n",
    "# a = data.to_numpy()\n",
    "\n",
    "test = pd.read_csv('example_converted.csv', error_bad_lines=False, encoding = \"UTF-8\")\n",
    "\n",
    "test_tensor = torch.tensor(test)\n",
    "\n",
    "# print(a.dtype)\n",
    "# print(a.shape)\n",
    "\n",
    "# b = torch.from_numpy(a)\n",
    "\n",
    "# tensor = torch.tensor(b)"
   ]
  }
 ],
 "metadata": {
  "interpreter": {
   "hash": "4ae0f51840560b27c3dabd957e94e0fed9c241b3c3e2d4a1a549a71fe8e320d9"
  },
  "kernelspec": {
   "display_name": "Python 3.9.1 64-bit",
   "name": "python3"
  },
  "language_info": {
   "codemirror_mode": {
    "name": "ipython",
    "version": 3
   },
   "file_extension": ".py",
   "mimetype": "text/x-python",
   "name": "python",
   "nbconvert_exporter": "python",
   "pygments_lexer": "ipython3",
   "version": "3.9.1"
  },
  "orig_nbformat": 4
 },
 "nbformat": 4,
 "nbformat_minor": 2
}
